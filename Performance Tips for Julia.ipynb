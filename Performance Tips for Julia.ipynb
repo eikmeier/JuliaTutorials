{
 "cells": [
  {
   "cell_type": "markdown",
   "metadata": {},
   "source": [
    "### In this notebook we go over a few tips on how to make your julia code faster, and show some tools that can help in this process\n",
    "Whenever thinking of writing fast code, understanding three components are often helpful\n",
    "    1. How types work in Julia\n",
    "    2. Memory management\n",
    "    3. Tools available to study the code"
   ]
  },
  {
   "cell_type": "markdown",
   "metadata": {},
   "source": [
    "## 1. Types and Type Stability\n",
    "A function is type stable when you can derive what the output of the function needs to be. The example below will make it clearer. As a rule of thumb, type stable functions are faster."
   ]
  },
  {
   "cell_type": "code",
   "execution_count": 1,
   "metadata": {},
   "outputs": [
    {
     "data": {
      "text/plain": [
       "square_plus_one (generic function with 1 method)"
      ]
     },
     "execution_count": 1,
     "metadata": {},
     "output_type": "execute_result"
    }
   ],
   "source": [
    "function square_plus_one(v::T) where T <:Number\n",
    "    g = v*v\n",
    "    return g+1\n",
    "end"
   ]
  },
  {
   "cell_type": "code",
   "execution_count": 2,
   "metadata": {},
   "outputs": [
    {
     "data": {
      "text/plain": [
       "0.12569648996264005"
      ]
     },
     "execution_count": 2,
     "metadata": {},
     "output_type": "execute_result"
    }
   ],
   "source": [
    "v = rand()"
   ]
  },
  {
   "cell_type": "code",
   "execution_count": 3,
   "metadata": {},
   "outputs": [
    {
     "name": "stdout",
     "output_type": "stream",
     "text": [
      "Body\u001b[36m::Float64\u001b[39m\n",
      "\u001b[90m\u001b[73G│╻  *\u001b[1G\u001b[39m\u001b[90m2 \u001b[39m1 ─ %1 = (Base.mul_float)(v, v)\u001b[36m::Float64\u001b[39m\n",
      "\u001b[90m\u001b[73G│╻╷ +\u001b[1G\u001b[39m\u001b[90m3 \u001b[39m│   %2 = (Base.add_float)(%1, 1.0)\u001b[36m::Float64\u001b[39m\n",
      "\u001b[90m\u001b[73G│  \u001b[1G\u001b[39m\u001b[90m  \u001b[39m└──      return %2\n"
     ]
    }
   ],
   "source": [
    "@code_warntype square_plus_one(v)"
   ]
  },
  {
   "cell_type": "code",
   "execution_count": 4,
   "metadata": {},
   "outputs": [
    {
     "data": {
      "text/plain": [
       "5"
      ]
     },
     "execution_count": 4,
     "metadata": {},
     "output_type": "execute_result"
    }
   ],
   "source": [
    "w = 5"
   ]
  },
  {
   "cell_type": "code",
   "execution_count": 5,
   "metadata": {},
   "outputs": [
    {
     "name": "stdout",
     "output_type": "stream",
     "text": [
      "Body\u001b[36m::Int64\u001b[39m\n",
      "\u001b[90m\u001b[74G│╻ *\u001b[1G\u001b[39m\u001b[90m2 \u001b[39m1 ─ %1 = (Base.mul_int)(v, v)\u001b[36m::Int64\u001b[39m\n",
      "\u001b[90m\u001b[74G│╻ +\u001b[1G\u001b[39m\u001b[90m3 \u001b[39m│   %2 = (Base.add_int)(%1, 1)\u001b[36m::Int64\u001b[39m\n",
      "\u001b[90m\u001b[74G│ \u001b[1G\u001b[39m\u001b[90m  \u001b[39m└──      return %2\n"
     ]
    }
   ],
   "source": [
    "@code_warntype square_plus_one(w)"
   ]
  },
  {
   "cell_type": "markdown",
   "metadata": {},
   "source": [
    "Great! In the above two examples, we were able to predict what the output will be. This is because:\n",
    "```\n",
    "function square_plus_one(v::T) where T <:Number\n",
    "    g = v*v         # Type(T * T) ==> T\n",
    "    return g+1      # Type(T + Int)) ==> \"max\" (T,Int)\n",
    "end\n",
    "\n",
    "```\n",
    "Note that in both calls the return type was different, once `Float64` and once `Int64`. But the function is still type stable.\n",
    "\n",
    "Now let's move to something more interesting. Let's create our first type."
   ]
  },
  {
   "cell_type": "code",
   "execution_count": 6,
   "metadata": {},
   "outputs": [],
   "source": [
    "mutable struct Cube\n",
    "    length\n",
    "    width\n",
    "    height\n",
    "end"
   ]
  },
  {
   "cell_type": "code",
   "execution_count": 7,
   "metadata": {},
   "outputs": [
    {
     "data": {
      "text/plain": [
       "volume (generic function with 1 method)"
      ]
     },
     "execution_count": 7,
     "metadata": {},
     "output_type": "execute_result"
    }
   ],
   "source": [
    "volume(c::Cube) = c.length*c.width*c.height"
   ]
  },
  {
   "cell_type": "code",
   "execution_count": 8,
   "metadata": {},
   "outputs": [
    {
     "data": {
      "text/plain": [
       "volume (generic function with 2 methods)"
      ]
     },
     "execution_count": 8,
     "metadata": {},
     "output_type": "execute_result"
    }
   ],
   "source": [
    "mutable struct Cube_typed\n",
    "    length::Float64\n",
    "    width::Float64\n",
    "    height::Float64\n",
    "end\n",
    "volume(c::Cube_typed) = c.length*c.width*c.height"
   ]
  },
  {
   "cell_type": "code",
   "execution_count": 9,
   "metadata": {},
   "outputs": [
    {
     "data": {
      "text/plain": [
       "volume (generic function with 3 methods)"
      ]
     },
     "execution_count": 9,
     "metadata": {},
     "output_type": "execute_result"
    }
   ],
   "source": [
    "mutable struct Cube_parametric_typed{T <: Real}\n",
    "    length::T\n",
    "    width::T\n",
    "    height::T\n",
    "end\n",
    "volume(c::Cube_parametric_typed) = c.length*c.width*c.height"
   ]
  },
  {
   "cell_type": "code",
   "execution_count": 10,
   "metadata": {},
   "outputs": [
    {
     "name": "stdout",
     "output_type": "stream",
     "text": [
      "volume(c1) == volume(c2) == volume(c3) = true\n"
     ]
    },
    {
     "data": {
      "text/plain": [
       "true"
      ]
     },
     "execution_count": 10,
     "metadata": {},
     "output_type": "execute_result"
    }
   ],
   "source": [
    "c1 = Cube(1.1,1.2,1.3)\n",
    "c2 = Cube_typed(1.1,1.2,1.3)\n",
    "c3 = Cube_parametric_typed(1.1,1.2,1.3)\n",
    "@show volume(c1) == volume(c2) == volume(c3)"
   ]
  },
  {
   "cell_type": "code",
   "execution_count": 11,
   "metadata": {},
   "outputs": [
    {
     "name": "stdout",
     "output_type": "stream",
     "text": [
      "  38.933 ns (1 allocation: 16 bytes)\n",
      "  11.219 ns (1 allocation: 16 bytes)\n",
      "  30.495 ns (1 allocation: 16 bytes)\n"
     ]
    },
    {
     "data": {
      "text/plain": [
       "1.7160000000000002"
      ]
     },
     "execution_count": 11,
     "metadata": {},
     "output_type": "execute_result"
    }
   ],
   "source": [
    "using BenchmarkTools\n",
    "@btime volume(c1) # not typed\n",
    "@btime volume(c2) # typed float\n",
    "@btime volume(c3) # typed parametric"
   ]
  },
  {
   "cell_type": "markdown",
   "metadata": {},
   "source": [
    "The second and the third function calls are faster! Let's call `@code_warntype` and check type stability"
   ]
  },
  {
   "cell_type": "code",
   "execution_count": 12,
   "metadata": {},
   "outputs": [
    {
     "name": "stdout",
     "output_type": "stream",
     "text": [
      "Body\u001b[91m\u001b[1m::Any\u001b[22m\u001b[39m\n",
      "\u001b[90m\u001b[64G│╻ getproperty\u001b[1G\u001b[39m\u001b[90m1 \u001b[39m1 ─ %1 = (Base.getfield)(c, :length)\u001b[91m\u001b[1m::Any\u001b[22m\u001b[39m\n",
      "\u001b[90m\u001b[64G││\u001b[1G\u001b[39m\u001b[90m  \u001b[39m│   %2 = (Base.getfield)(c, :width)\u001b[91m\u001b[1m::Any\u001b[22m\u001b[39m\n",
      "\u001b[90m\u001b[64G││\u001b[1G\u001b[39m\u001b[90m  \u001b[39m│   %3 = (Base.getfield)(c, :height)\u001b[91m\u001b[1m::Any\u001b[22m\u001b[39m\n",
      "\u001b[90m\u001b[64G│ \u001b[1G\u001b[39m\u001b[90m  \u001b[39m│   %4 = (%1 * %2 * %3)\u001b[91m\u001b[1m::Any\u001b[22m\u001b[39m\n",
      "\u001b[90m\u001b[64G│ \u001b[1G\u001b[39m\u001b[90m  \u001b[39m└──      return %4\n"
     ]
    }
   ],
   "source": [
    "@code_warntype volume(c1)"
   ]
  },
  {
   "cell_type": "code",
   "execution_count": 13,
   "metadata": {},
   "outputs": [
    {
     "name": "stdout",
     "output_type": "stream",
     "text": [
      "Body\u001b[36m::Float64\u001b[39m\n",
      "\u001b[90m\u001b[63G│╻  getproperty\u001b[1G\u001b[39m\u001b[90m6 \u001b[39m1 ─ %1 = (Base.getfield)(c, :length)\u001b[36m::Float64\u001b[39m\n",
      "\u001b[90m\u001b[63G││ \u001b[1G\u001b[39m\u001b[90m  \u001b[39m│   %2 = (Base.getfield)(c, :width)\u001b[36m::Float64\u001b[39m\n",
      "\u001b[90m\u001b[63G││ \u001b[1G\u001b[39m\u001b[90m  \u001b[39m│   %3 = (Base.getfield)(c, :height)\u001b[36m::Float64\u001b[39m\n",
      "\u001b[90m\u001b[63G││╻  *\u001b[1G\u001b[39m\u001b[90m  \u001b[39m│   %4 = (Base.mul_float)(%1, %2)\u001b[36m::Float64\u001b[39m\n",
      "\u001b[90m\u001b[63G│││\u001b[1G\u001b[39m\u001b[90m  \u001b[39m│   %5 = (Base.mul_float)(%4, %3)\u001b[36m::Float64\u001b[39m\n",
      "\u001b[90m\u001b[63G│  \u001b[1G\u001b[39m\u001b[90m  \u001b[39m└──      return %5\n"
     ]
    }
   ],
   "source": [
    "@code_warntype volume(c2)"
   ]
  },
  {
   "cell_type": "code",
   "execution_count": 14,
   "metadata": {},
   "outputs": [
    {
     "name": "stdout",
     "output_type": "stream",
     "text": [
      "Body\u001b[36m::Float64\u001b[39m\n",
      "\u001b[90m\u001b[63G│╻  getproperty\u001b[1G\u001b[39m\u001b[90m6 \u001b[39m1 ─ %1 = (Base.getfield)(c, :length)\u001b[36m::Float64\u001b[39m\n",
      "\u001b[90m\u001b[63G││ \u001b[1G\u001b[39m\u001b[90m  \u001b[39m│   %2 = (Base.getfield)(c, :width)\u001b[36m::Float64\u001b[39m\n",
      "\u001b[90m\u001b[63G││ \u001b[1G\u001b[39m\u001b[90m  \u001b[39m│   %3 = (Base.getfield)(c, :height)\u001b[36m::Float64\u001b[39m\n",
      "\u001b[90m\u001b[63G││╻  *\u001b[1G\u001b[39m\u001b[90m  \u001b[39m│   %4 = (Base.mul_float)(%1, %2)\u001b[36m::Float64\u001b[39m\n",
      "\u001b[90m\u001b[63G│││\u001b[1G\u001b[39m\u001b[90m  \u001b[39m│   %5 = (Base.mul_float)(%4, %3)\u001b[36m::Float64\u001b[39m\n",
      "\u001b[90m\u001b[63G│  \u001b[1G\u001b[39m\u001b[90m  \u001b[39m└──      return %5\n"
     ]
    }
   ],
   "source": [
    "@code_warntype volume(c3)"
   ]
  },
  {
   "cell_type": "markdown",
   "metadata": {},
   "source": [
    "**Conclusion**: Types matter, when you know anything about the types of your variables, include them in your code to make it run faster"
   ]
  },
  {
   "cell_type": "code",
   "execution_count": 15,
   "metadata": {},
   "outputs": [
    {
     "name": "stdout",
     "output_type": "stream",
     "text": [
      "Body\u001b[91m\u001b[1m::Union{Float64, Int64}\u001b[22m\u001b[39m\n",
      "\u001b[90m\u001b[69G│╻╷  >=\u001b[1G\u001b[39m\u001b[90m2 \u001b[39m1 ─ %1 = π (0.0, \u001b[36mFloat64\u001b[39m)\n",
      "\u001b[90m\u001b[69G││┃│  <=\u001b[1G\u001b[39m\u001b[90m  \u001b[39m│   %2 = (Base.lt_float)(%1, x)\u001b[36m::Bool\u001b[39m\n",
      "\u001b[90m\u001b[69G│││ \u001b[1G\u001b[39m\u001b[90m  \u001b[39m│   %3 = π (0.0, \u001b[36mFloat64\u001b[39m)\n",
      "\u001b[90m\u001b[69G│││╻   ==\u001b[1G\u001b[39m\u001b[90m  \u001b[39m│   %4 = (Base.eq_float)(%3, x)\u001b[36m::Bool\u001b[39m\n",
      "\u001b[90m\u001b[69G│││╻   &\u001b[1G\u001b[39m\u001b[90m  \u001b[39m│   %5 = (Base.and_int)(%4, true)\u001b[36m::Bool\u001b[39m\n",
      "\u001b[90m\u001b[69G│││╻   |\u001b[1G\u001b[39m\u001b[90m  \u001b[39m│   %6 = (Base.or_int)(%2, %5)\u001b[36m::Bool\u001b[39m\n",
      "\u001b[90m\u001b[69G│   \u001b[1G\u001b[39m\u001b[90m  \u001b[39m└──      goto #3 if not %6\n",
      "\u001b[90m\u001b[69G│   \u001b[1G\u001b[39m\u001b[90m3 \u001b[39m2 ─      return x\n",
      "\u001b[90m\u001b[69G│   \u001b[1G\u001b[39m\u001b[90m5 \u001b[39m3 ─      return 0\n"
     ]
    }
   ],
   "source": [
    "function zero_or_val(x::Real)\n",
    "    if x >= 0\n",
    "        return x\n",
    "    else\n",
    "        return 0\n",
    "    end\n",
    "end\n",
    "@code_warntype zero_or_val(0.2)"
   ]
  },
  {
   "cell_type": "code",
   "execution_count": 16,
   "metadata": {},
   "outputs": [
    {
     "name": "stdout",
     "output_type": "stream",
     "text": [
      "Body\u001b[36m::Float64\u001b[39m\n",
      "\u001b[90m\u001b[69G│╻╷  >=\u001b[1G\u001b[39m\u001b[90m2 \u001b[39m1 ─ %1  = π (0.0, \u001b[36mFloat64\u001b[39m)\n",
      "\u001b[90m\u001b[69G││┃│  <=\u001b[1G\u001b[39m\u001b[90m  \u001b[39m│   %2  = (Base.lt_float)(%1, x)\u001b[36m::Bool\u001b[39m\n",
      "\u001b[90m\u001b[69G│││ \u001b[1G\u001b[39m\u001b[90m  \u001b[39m│   %3  = π (0.0, \u001b[36mFloat64\u001b[39m)\n",
      "\u001b[90m\u001b[69G│││╻   ==\u001b[1G\u001b[39m\u001b[90m  \u001b[39m│   %4  = (Base.eq_float)(%3, x)\u001b[36m::Bool\u001b[39m\n",
      "\u001b[90m\u001b[69G│││╻   &\u001b[1G\u001b[39m\u001b[90m  \u001b[39m│   %5  = (Base.and_int)(%4, true)\u001b[36m::Bool\u001b[39m\n",
      "\u001b[90m\u001b[69G│││╻   |\u001b[1G\u001b[39m\u001b[90m  \u001b[39m│   %6  = (Base.or_int)(%2, %5)\u001b[36m::Bool\u001b[39m\n",
      "\u001b[90m\u001b[69G│   \u001b[1G\u001b[39m\u001b[90m  \u001b[39m└──       goto #3 if not %6\n",
      "\u001b[90m\u001b[69G│   \u001b[1G\u001b[39m\u001b[90m3 \u001b[39m2 ─       goto #4\n",
      "\u001b[90m\u001b[69G│   \u001b[1G\u001b[39m\u001b[90m  \u001b[39m3 ─       nothing\n",
      "\u001b[90m\u001b[69G│   \u001b[1G\u001b[39m\u001b[90m7 \u001b[39m4 ┄ %10 = φ (#2 => _2, #3 => 0)\u001b[91m\u001b[1m::Union{Float64, Int64}\u001b[22m\u001b[39m\n",
      "\u001b[90m\u001b[69G│   \u001b[1G\u001b[39m\u001b[90m8 \u001b[39m│   %11 = (isa)(%10, Int64)\u001b[36m::Bool\u001b[39m\n",
      "\u001b[90m\u001b[69G│   \u001b[1G\u001b[39m\u001b[90m  \u001b[39m└──       goto #6 if not %11\n",
      "\u001b[90m\u001b[69G│   \u001b[1G\u001b[39m\u001b[90m  \u001b[39m5 ─ %13 = π (%10, \u001b[36mInt64\u001b[39m)\n",
      "\u001b[90m\u001b[69G│╻   Type\u001b[1G\u001b[39m\u001b[90m  \u001b[39m│   %14 = (Base.sitofp)(Float64, %13)\u001b[36m::Float64\u001b[39m\n",
      "\u001b[90m\u001b[69G│   \u001b[1G\u001b[39m\u001b[90m  \u001b[39m└──       goto #9\n",
      "\u001b[90m\u001b[69G│   \u001b[1G\u001b[39m\u001b[90m  \u001b[39m6 ─ %16 = (isa)(%10, Float64)\u001b[36m::Bool\u001b[39m\n",
      "\u001b[90m\u001b[69G│   \u001b[1G\u001b[39m\u001b[90m  \u001b[39m└──       goto #8 if not %16\n",
      "\u001b[90m\u001b[69G│   \u001b[1G\u001b[39m\u001b[90m  \u001b[39m7 ─ %18 = π (%10, \u001b[36mFloat64\u001b[39m)\n",
      "\u001b[90m\u001b[69G│   \u001b[1G\u001b[39m\u001b[90m  \u001b[39m└──       goto #9\n",
      "\u001b[90m\u001b[69G│   \u001b[1G\u001b[39m\u001b[90m  \u001b[39m8 ─       (Core.throw)(ErrorException(\"fatal error in type inference (type bound)\"))\n",
      "\u001b[90m\u001b[69G│   \u001b[1G\u001b[39m\u001b[90m  \u001b[39m└──       $(Expr(:unreachable))\n",
      "\u001b[90m\u001b[69G│   \u001b[1G\u001b[39m\u001b[90m  \u001b[39m9 ┄ %22 = φ (#5 => %14, #7 => %18)\u001b[36m::Float64\u001b[39m\n",
      "\u001b[90m\u001b[69G│   \u001b[1G\u001b[39m\u001b[90m  \u001b[39m└──       return %22\n"
     ]
    }
   ],
   "source": [
    "function zero_or_val_stable(x::Real)\n",
    "    if x >= 0\n",
    "        y = x\n",
    "    else\n",
    "        y = 0\n",
    "    end\n",
    "    T = promote_type(typeof(x),Int)\n",
    "    return T(y)\n",
    "end\n",
    "@code_warntype zero_or_val_stable(0.2)"
   ]
  },
  {
   "cell_type": "markdown",
   "metadata": {},
   "source": [
    "**Conclusion**: You can avoid type instable code by using the `promote_type` function which returns the highest of the two types passed."
   ]
  },
  {
   "cell_type": "markdown",
   "metadata": {},
   "source": [
    "Let us say we want to play the following game, I give you a vector of numbers. And you want to accumulate the sum as follows. For each number in the vector, you toss a coin (`rand()`), if it is heads (`>=0.5`), you add `1`. Otherwise, you add the number itself."
   ]
  },
  {
   "cell_type": "code",
   "execution_count": 17,
   "metadata": {},
   "outputs": [
    {
     "name": "stdout",
     "output_type": "stream",
     "text": [
      "flipcoin_then_add(myvec) == flipcoin_then_add_typed(myvec) = true\n"
     ]
    },
    {
     "data": {
      "text/plain": [
       "true"
      ]
     },
     "execution_count": 17,
     "metadata": {},
     "output_type": "execute_result"
    }
   ],
   "source": [
    "function flipcoin_then_add(v::Vector{T}) where T <: Real\n",
    "    s = 0\n",
    "    for vi in v\n",
    "        r = rand()\n",
    "        if r >=0.5\n",
    "            s += 1\n",
    "        else\n",
    "            s += vi\n",
    "        end\n",
    "    end\n",
    "end\n",
    "\n",
    "function flipcoin_then_add_typed(v::Vector{T}) where T <: Real\n",
    "    s = zero(T)\n",
    "    for vi in v\n",
    "        r = rand()\n",
    "        if r >=0.5\n",
    "            s += one(T)\n",
    "        else\n",
    "            s += vi\n",
    "        end\n",
    "    end\n",
    "end\n",
    "myvec = rand(1000)\n",
    "@show flipcoin_then_add(myvec) == flipcoin_then_add_typed(myvec)"
   ]
  },
  {
   "cell_type": "code",
   "execution_count": 18,
   "metadata": {},
   "outputs": [
    {
     "name": "stdout",
     "output_type": "stream",
     "text": [
      "  10.286 μs (1 allocation: 7.94 KiB)\n",
      "  3.425 μs (1 allocation: 7.94 KiB)\n"
     ]
    }
   ],
   "source": [
    "@btime flipcoin_then_add(rand(1000))\n",
    "@btime flipcoin_then_add_typed(rand(1000))"
   ]
  },
  {
   "cell_type": "markdown",
   "metadata": {},
   "source": [
    "**Conclusion**: Think about the variables you are declaring. Do you know their types? If so, specify the type somehow."
   ]
  },
  {
   "cell_type": "markdown",
   "metadata": {},
   "source": [
    "## 2. Memory\n",
    "As a rule of thumb, **functions with preallocated memory run faster**"
   ]
  },
  {
   "cell_type": "markdown",
   "metadata": {},
   "source": [
    "A classic example here is to build an array with pre-allocated memory versus pushing to it. Let's try to build Fibonacci using both approaches"
   ]
  },
  {
   "cell_type": "code",
   "execution_count": 19,
   "metadata": {},
   "outputs": [
    {
     "data": {
      "text/plain": [
       "build_fibonacci_preallocate (generic function with 1 method)"
      ]
     },
     "execution_count": 19,
     "metadata": {},
     "output_type": "execute_result"
    }
   ],
   "source": [
    "function build_fibonacci_preallocate(n::Int)\n",
    "    @assert n >= 2\n",
    "    v = zeros(Int64,n)\n",
    "    v[1] = 1\n",
    "    v[2] = 1\n",
    "    for i = 3:n\n",
    "        v[i] = v[i-1] + v[i-2]\n",
    "    end\n",
    "    return v\n",
    "end"
   ]
  },
  {
   "cell_type": "code",
   "execution_count": 20,
   "metadata": {},
   "outputs": [
    {
     "data": {
      "text/plain": [
       "build_fibonacci_no_allocation (generic function with 1 method)"
      ]
     },
     "execution_count": 20,
     "metadata": {},
     "output_type": "execute_result"
    }
   ],
   "source": [
    "function build_fibonacci_no_allocation(n::Int)\n",
    "    @assert n >= 2\n",
    "    v = Vector{Int64}()\n",
    "    push!(v,1)\n",
    "    push!(v,1)\n",
    "    for i = 3:n\n",
    "        push!(v,v[i-1]+v[i-2])\n",
    "    end\n",
    "    return v\n",
    "end"
   ]
  },
  {
   "cell_type": "code",
   "execution_count": 21,
   "metadata": {},
   "outputs": [
    {
     "name": "stdout",
     "output_type": "stream",
     "text": [
      "isequal(build_fibonacci_preallocate(10), build_fibonacci_no_allocation(10)) = true\n"
     ]
    },
    {
     "data": {
      "text/plain": [
       "true"
      ]
     },
     "execution_count": 21,
     "metadata": {},
     "output_type": "execute_result"
    }
   ],
   "source": [
    "@show isequal(build_fibonacci_preallocate(10),build_fibonacci_no_allocation(10))"
   ]
  },
  {
   "cell_type": "code",
   "execution_count": 22,
   "metadata": {},
   "outputs": [
    {
     "name": "stdout",
     "output_type": "stream",
     "text": [
      "  1.265 μs (7 allocations: 2.27 KiB)\n",
      "  255.648 ns (1 allocation: 896 bytes)\n"
     ]
    }
   ],
   "source": [
    "n = 100\n",
    "@btime build_fibonacci_no_allocation(n);\n",
    "@btime build_fibonacci_preallocate(n);"
   ]
  },
  {
   "cell_type": "markdown",
   "metadata": {},
   "source": [
    "**Conclusion**: Whenever possible, preallocate memory"
   ]
  },
  {
   "cell_type": "markdown",
   "metadata": {},
   "source": [
    "It's also important to understand **how memory is organized in Julia**. Let's say, for _some reason_ you want to access all the elements of a matrix once. For the sake of this experiment, let's say we want to write `matrix_sum(A)` where A is a matrix"
   ]
  },
  {
   "cell_type": "code",
   "execution_count": 23,
   "metadata": {},
   "outputs": [],
   "source": [
    "# Create a random matrix A of size m-by-n\n",
    "m = 10000\n",
    "n = 10000\n",
    "A = rand(m,n)\n",
    ";"
   ]
  },
  {
   "cell_type": "code",
   "execution_count": 24,
   "metadata": {},
   "outputs": [
    {
     "data": {
      "text/plain": [
       "matrix_sum_rows (generic function with 1 method)"
      ]
     },
     "execution_count": 24,
     "metadata": {},
     "output_type": "execute_result"
    }
   ],
   "source": [
    "function matrix_sum_rows(A::Matrix)\n",
    "    m,n = size(A)\n",
    "    mysum = 0\n",
    "    for i = 1:m # fix a row\n",
    "        for j = 1:n # loop over cols\n",
    "            mysum += A[i,j]\n",
    "        end\n",
    "    end\n",
    "    return mysum\n",
    "end"
   ]
  },
  {
   "cell_type": "code",
   "execution_count": 25,
   "metadata": {},
   "outputs": [
    {
     "data": {
      "text/plain": [
       "matrix_sum_cols (generic function with 1 method)"
      ]
     },
     "execution_count": 25,
     "metadata": {},
     "output_type": "execute_result"
    }
   ],
   "source": [
    "function matrix_sum_cols(A::Matrix)\n",
    "    m,n = size(A)\n",
    "    mysum = 0\n",
    "    for j = 1:n # fix a column\n",
    "        for i = 1:m # loop over rows\n",
    "            mysum += A[i,j]\n",
    "        end\n",
    "    end\n",
    "    return mysum\n",
    "end"
   ]
  },
  {
   "cell_type": "code",
   "execution_count": 26,
   "metadata": {},
   "outputs": [
    {
     "data": {
      "text/plain": [
       "matrix_sum_index (generic function with 1 method)"
      ]
     },
     "execution_count": 26,
     "metadata": {},
     "output_type": "execute_result"
    }
   ],
   "source": [
    "function matrix_sum_index(A::Matrix)\n",
    "    m,n = size(A)\n",
    "    mysum = 0\n",
    "    for i = 1:m*n\n",
    "        mysum += A[i]\n",
    "    end\n",
    "    return mysum\n",
    "end"
   ]
  },
  {
   "cell_type": "code",
   "execution_count": 27,
   "metadata": {},
   "outputs": [
    {
     "name": "stdout",
     "output_type": "stream",
     "text": [
      "matrix_sum_cols(A) ≈ matrix_sum_rows(A) ≈ matrix_sum_index(A) = true\n"
     ]
    },
    {
     "data": {
      "text/plain": [
       "true"
      ]
     },
     "execution_count": 27,
     "metadata": {},
     "output_type": "execute_result"
    }
   ],
   "source": [
    "@show matrix_sum_cols(A) ≈ matrix_sum_rows(A) ≈ matrix_sum_index(A)"
   ]
  },
  {
   "cell_type": "code",
   "execution_count": 28,
   "metadata": {},
   "outputs": [
    {
     "name": "stdout",
     "output_type": "stream",
     "text": [
      "  2.247 s (1 allocation: 16 bytes)\n",
      "  122.958 ms (1 allocation: 16 bytes)\n",
      "  131.959 ms (1 allocation: 16 bytes)\n"
     ]
    },
    {
     "data": {
      "text/plain": [
       "5.000175594658105e7"
      ]
     },
     "execution_count": 28,
     "metadata": {},
     "output_type": "execute_result"
    }
   ],
   "source": [
    "@btime matrix_sum_rows(A)\n",
    "@btime matrix_sum_cols(A)\n",
    "@btime matrix_sum_index(A)"
   ]
  },
  {
   "cell_type": "markdown",
   "metadata": {},
   "source": [
    "**Conclusion**: Matrices are orgnaized column-wise in memory. It's better to access them one column at a time. Consider understanding how your data is organized in memory when you want to access it."
   ]
  },
  {
   "cell_type": "markdown",
   "metadata": {},
   "source": [
    "**Memory recyling** is also an important concept that can make your code run faster. **Bonus in this example**: vectorized operations are not necessairly faster."
   ]
  },
  {
   "cell_type": "markdown",
   "metadata": {},
   "source": [
    "Let's take this example, you have a vector b and a vector h where b[i] is the base length of triangle i and h[i] is the height length. The experiment is to find the hypotenuse value of all triangles"
   ]
  },
  {
   "cell_type": "code",
   "execution_count": 29,
   "metadata": {},
   "outputs": [
    {
     "data": {
      "text/plain": [
       "find_hypotenuse (generic function with 1 method)"
      ]
     },
     "execution_count": 29,
     "metadata": {},
     "output_type": "execute_result"
    }
   ],
   "source": [
    "b = rand(1000)*10\n",
    "h = rand(1000)*10\n",
    "function find_hypotenuse(b::Vector{T},h::Vector{T}) where T <: Real\n",
    "    return sqrt.(b.^2+h.^2)\n",
    "end"
   ]
  },
  {
   "cell_type": "code",
   "execution_count": 30,
   "metadata": {},
   "outputs": [
    {
     "name": "stdout",
     "output_type": "stream",
     "text": [
      "  10.556 μs (6 allocations: 31.81 KiB)\n"
     ]
    }
   ],
   "source": [
    "# Let's time it\n",
    "@btime find_hypotenuse(b,h);"
   ]
  },
  {
   "cell_type": "code",
   "execution_count": 31,
   "metadata": {},
   "outputs": [
    {
     "name": "stdout",
     "output_type": "stream",
     "text": [
      "  7.175 μs (1 allocation: 7.94 KiB)\n"
     ]
    }
   ],
   "source": [
    "function find_hypotenuse_optimized(b::Vector{T},h::Vector{T}) where T <: Real\n",
    "    accum_vec = similar(b)\n",
    "    for i = 1:length(b)\n",
    "        accum_vec[i] = b[i]^2\n",
    "        accum_vec[i] = accum_vec[i] + h[i]^2 # here, we used the same space in memory to hold the sum\n",
    "        accum_vec[i] = sqrt(accum_vec[i]) # same thing here, to hold the sqrt\n",
    "        # or:\n",
    "        # accum_vec[i] = sqrt(b[i]^2+h[i]^2)\n",
    "    end\n",
    "    return accum_vec\n",
    "end\n",
    "@btime find_hypotenuse_optimized(b,h);"
   ]
  },
  {
   "cell_type": "markdown",
   "metadata": {},
   "source": [
    "**Conclusion**: Whenever you can reuse memory, reuse it. "
   ]
  },
  {
   "cell_type": "markdown",
   "metadata": {},
   "source": [
    "## 3. Tools\n",
    "It is helpful to learn about some of the tools that Julia provides to make your code faster"
   ]
  },
  {
   "cell_type": "markdown",
   "metadata": {},
   "source": [
    "### @inbounds"
   ]
  },
  {
   "cell_type": "code",
   "execution_count": 32,
   "metadata": {},
   "outputs": [
    {
     "data": {
      "text/markdown": [
       "```\n",
       "@inbounds(blk)\n",
       "```\n",
       "\n",
       "Eliminates array bounds checking within expressions.\n",
       "\n",
       "In the example below the in-range check for referencing element `i` of array `A` is skipped to improve performance.\n",
       "\n",
       "```julia\n",
       "function sum(A::AbstractArray)\n",
       "    r = zero(eltype(A))\n",
       "    for i = 1:length(A)\n",
       "        @inbounds r += A[i]\n",
       "    end\n",
       "    return r\n",
       "end\n",
       "```\n",
       "\n",
       "!!! warning\n",
       "    Using `@inbounds` may return incorrect results/crashes/corruption for out-of-bounds indices. The user is responsible for checking it manually. Only use `@inbounds` when it is certain from the information locally available that all accesses are in bounds.\n",
       "\n"
      ],
      "text/plain": [
       "\u001b[36m  @inbounds(blk)\u001b[39m\n",
       "\n",
       "  Eliminates array bounds checking within expressions.\n",
       "\n",
       "  In the example below the in-range check for referencing element \u001b[36mi\u001b[39m of array \u001b[36mA\u001b[39m\n",
       "  is skipped to improve performance.\n",
       "\n",
       "\u001b[36m  function sum(A::AbstractArray)\u001b[39m\n",
       "\u001b[36m      r = zero(eltype(A))\u001b[39m\n",
       "\u001b[36m      for i = 1:length(A)\u001b[39m\n",
       "\u001b[36m          @inbounds r += A[i]\u001b[39m\n",
       "\u001b[36m      end\u001b[39m\n",
       "\u001b[36m      return r\u001b[39m\n",
       "\u001b[36m  end\u001b[39m\n",
       "\n",
       "\u001b[33m\u001b[1m  │ \u001b[22m\u001b[39m\u001b[33m\u001b[1mWarning\u001b[22m\u001b[39m\n",
       "\u001b[33m\u001b[1m  │\u001b[22m\u001b[39m\n",
       "\u001b[33m\u001b[1m  │\u001b[22m\u001b[39m  Using \u001b[36m@inbounds\u001b[39m may return incorrect results/crashes/corruption\n",
       "\u001b[33m\u001b[1m  │\u001b[22m\u001b[39m  for out-of-bounds indices. The user is responsible for checking it\n",
       "\u001b[33m\u001b[1m  │\u001b[22m\u001b[39m  manually. Only use \u001b[36m@inbounds\u001b[39m when it is certain from the\n",
       "\u001b[33m\u001b[1m  │\u001b[22m\u001b[39m  information locally available that all accesses are in bounds."
      ]
     },
     "execution_count": 32,
     "metadata": {},
     "output_type": "execute_result"
    }
   ],
   "source": [
    "?@inbounds"
   ]
  },
  {
   "cell_type": "code",
   "execution_count": 33,
   "metadata": {},
   "outputs": [],
   "source": [
    "# Let us say we want to find the sum of all elements in a vector"
   ]
  },
  {
   "cell_type": "code",
   "execution_count": 34,
   "metadata": {},
   "outputs": [
    {
     "data": {
      "text/plain": [
       "new_sum_inbounds (generic function with 1 method)"
      ]
     },
     "execution_count": 34,
     "metadata": {},
     "output_type": "execute_result"
    }
   ],
   "source": [
    "function new_sum(myvec::Vector{Int})\n",
    "    s = 0\n",
    "    for i = 1:length(myvec)\n",
    "        s += myvec[i]\n",
    "    end\n",
    "    return s\n",
    "end\n",
    "\n",
    "function new_sum_inbounds(myvec::Vector{Int})\n",
    "    s = 0\n",
    "    @inbounds for i = 1:length(myvec)\n",
    "        s += myvec[i]\n",
    "    end\n",
    "    return s\n",
    "end"
   ]
  },
  {
   "cell_type": "code",
   "execution_count": 35,
   "metadata": {},
   "outputs": [
    {
     "name": "stdout",
     "output_type": "stream",
     "text": [
      "  841.042 μs (0 allocations: 0 bytes)\n",
      "  511.709 μs (0 allocations: 0 bytes)\n"
     ]
    },
    {
     "data": {
      "text/plain": [
       "500000500000"
      ]
     },
     "execution_count": 35,
     "metadata": {},
     "output_type": "execute_result"
    }
   ],
   "source": [
    "myvec = collect(1:1000000)\n",
    "@btime new_sum(myvec)\n",
    "@btime new_sum_inbounds(myvec)"
   ]
  },
  {
   "cell_type": "code",
   "execution_count": 36,
   "metadata": {},
   "outputs": [
    {
     "name": "stdout",
     "output_type": "stream",
     "text": [
      "isequal(new_sum(myvec), new_sum_inbounds(myvec)) = true\n"
     ]
    },
    {
     "data": {
      "text/plain": [
       "true"
      ]
     },
     "execution_count": 36,
     "metadata": {},
     "output_type": "execute_result"
    }
   ],
   "source": [
    "@show isequal(new_sum(myvec),new_sum_inbounds(myvec))"
   ]
  },
  {
   "cell_type": "code",
   "execution_count": 37,
   "metadata": {},
   "outputs": [],
   "source": [
    "# Be careful though!\n",
    "function new_sum_WRONG(myvec::Vector{Int})\n",
    "    s = 0\n",
    "    for i = 1:length(myvec)+1\n",
    "        s += myvec[i]\n",
    "    end\n",
    "    return s\n",
    "end\n",
    "\n",
    "function new_sum_inbounds_WRONG(myvec::Vector{Int})\n",
    "    s = 0\n",
    "    @inbounds for i = 1:length(myvec)+1\n",
    "        s += myvec[i]\n",
    "    end\n",
    "    return s\n",
    "end\n",
    "\n",
    "myvec = collect(1:1000000);"
   ]
  },
  {
   "cell_type": "code",
   "execution_count": 38,
   "metadata": {},
   "outputs": [
    {
     "ename": "BoundsError",
     "evalue": "BoundsError: attempt to access 1000000-element Array{Int64,1} at index [1000001]",
     "output_type": "error",
     "traceback": [
      "BoundsError: attempt to access 1000000-element Array{Int64,1} at index [1000001]",
      "",
      "Stacktrace:",
      " [1] getindex at ./array.jl:731 [inlined]",
      " [2] new_sum_WRONG at ./In[37]:5 [inlined]",
      " [3] ##core#476() at /Users/hudanassar/.julia/packages/BenchmarkTools/dtwnm/src/execution.jl:293",
      " [4] ##sample#477(::BenchmarkTools.Parameters) at /Users/hudanassar/.julia/packages/BenchmarkTools/dtwnm/src/execution.jl:299",
      " [5] #_run#17(::Bool, ::String, ::Base.Iterators.Pairs{Symbol,Integer,NTuple{4,Symbol},NamedTuple{(:samples, :evals, :gctrial, :gcsample),Tuple{Int64,Int64,Bool,Bool}}}, ::Function, ::BenchmarkTools.Benchmark{Symbol(\"##benchmark#475\")}, ::BenchmarkTools.Parameters) at /Users/hudanassar/.julia/packages/BenchmarkTools/dtwnm/src/execution.jl:327",
      " [6] (::getfield(Base, Symbol(\"#inner#2\")){Base.Iterators.Pairs{Symbol,Integer,NTuple{5,Symbol},NamedTuple{(:verbose, :samples, :evals, :gctrial, :gcsample),Tuple{Bool,Int64,Int64,Bool,Bool}}},typeof(BenchmarkTools._run),Tuple{BenchmarkTools.Benchmark{Symbol(\"##benchmark#475\")},BenchmarkTools.Parameters}})() at ./none:0",
      " [7] #invokelatest#1 at ./essentials.jl:690 [inlined]",
      " [8] #invokelatest at ./none:0 [inlined]",
      " [9] #run_result#16 at /Users/hudanassar/.julia/packages/BenchmarkTools/dtwnm/src/execution.jl:32 [inlined]",
      " [10] #run_result at ./none:0 [inlined]",
      " [11] #run#18(::Base.Iterators.Pairs{Symbol,Integer,NTuple{5,Symbol},NamedTuple{(:verbose, :samples, :evals, :gctrial, :gcsample),Tuple{Bool,Int64,Int64,Bool,Bool}}}, ::Function, ::BenchmarkTools.Benchmark{Symbol(\"##benchmark#475\")}, ::BenchmarkTools.Parameters) at /Users/hudanassar/.julia/packages/BenchmarkTools/dtwnm/src/execution.jl:46",
      " [12] #run at ./none:0 [inlined] (repeats 2 times)",
      " [13] #warmup#21 at /Users/hudanassar/.julia/packages/BenchmarkTools/dtwnm/src/execution.jl:79 [inlined]",
      " [14] warmup(::BenchmarkTools.Benchmark{Symbol(\"##benchmark#475\")}) at /Users/hudanassar/.julia/packages/BenchmarkTools/dtwnm/src/execution.jl:79",
      " [15] top-level scope at /Users/hudanassar/.julia/packages/BenchmarkTools/dtwnm/src/execution.jl:387",
      " [16] top-level scope at In[38]:1"
     ]
    }
   ],
   "source": [
    "@btime new_sum_WRONG(myvec)"
   ]
  },
  {
   "cell_type": "code",
   "execution_count": 39,
   "metadata": {},
   "outputs": [
    {
     "name": "stdout",
     "output_type": "stream",
     "text": [
      "  511.546 μs (0 allocations: 0 bytes)\n"
     ]
    },
    {
     "data": {
      "text/plain": [
       "500000500000"
      ]
     },
     "execution_count": 39,
     "metadata": {},
     "output_type": "execute_result"
    }
   ],
   "source": [
    "@btime new_sum_inbounds_WRONG(myvec) # this actually exectued!"
   ]
  },
  {
   "cell_type": "markdown",
   "metadata": {},
   "source": [
    "### @code_XXX\n",
    "One cool thing about Julia is that it allows you to see the different stages of the code before all the way to native code! Let's look at these macros that allow you to achieve that"
   ]
  },
  {
   "cell_type": "code",
   "execution_count": 40,
   "metadata": {},
   "outputs": [
    {
     "data": {
      "text/plain": [
       "flipcoin (generic function with 1 method)"
      ]
     },
     "execution_count": 40,
     "metadata": {},
     "output_type": "execute_result"
    }
   ],
   "source": [
    "# @code_llvm \n",
    "# @code_lowered \n",
    "# @code_native \n",
    "# @code_typed \n",
    "# @code_warntype\n",
    "\n",
    "function flipcoin(randval::Float64)\n",
    "    if randval<0.5\n",
    "        return \"H\"\n",
    "    else\n",
    "        return \"T\"\n",
    "    end\n",
    "end"
   ]
  },
  {
   "cell_type": "code",
   "execution_count": 41,
   "metadata": {},
   "outputs": [
    {
     "data": {
      "text/plain": [
       "CodeInfo(\n",
       "\u001b[90m\u001b[77G│\u001b[1G\u001b[39m\u001b[90m8  \u001b[39m1 ─ %1 = randval < 0.5\n",
       "\u001b[90m\u001b[77G│\u001b[1G\u001b[39m\u001b[90m   \u001b[39m└──      goto #3 if not %1\n",
       "\u001b[90m\u001b[77G│\u001b[1G\u001b[39m\u001b[90m9  \u001b[39m2 ─      return \"H\"\n",
       "\u001b[90m\u001b[77G│\u001b[1G\u001b[39m\u001b[90m11 \u001b[39m3 ─      return \"T\"\n",
       ")"
      ]
     },
     "execution_count": 41,
     "metadata": {},
     "output_type": "execute_result"
    }
   ],
   "source": [
    "@code_lowered flipcoin(rand()) # syntax tree"
   ]
  },
  {
   "cell_type": "code",
   "execution_count": 42,
   "metadata": {},
   "outputs": [
    {
     "name": "stdout",
     "output_type": "stream",
     "text": [
      "Body\u001b[36m::String\u001b[39m\n",
      "\u001b[90m\u001b[74G│╻ <\u001b[1G\u001b[39m\u001b[90m8  \u001b[39m1 ─ %1 = (Base.lt_float)(randval, 0.5)\u001b[36m::Bool\u001b[39m\n",
      "\u001b[90m\u001b[74G│ \u001b[1G\u001b[39m\u001b[90m   \u001b[39m└──      goto #3 if not %1\n",
      "\u001b[90m\u001b[74G│ \u001b[1G\u001b[39m\u001b[90m9  \u001b[39m2 ─      return \"H\"\n",
      "\u001b[90m\u001b[74G│ \u001b[1G\u001b[39m\u001b[90m11 \u001b[39m3 ─      return \"T\"\n"
     ]
    }
   ],
   "source": [
    "@code_warntype flipcoin(rand()) # try @code_typed"
   ]
  },
  {
   "cell_type": "code",
   "execution_count": 43,
   "metadata": {},
   "outputs": [
    {
     "name": "stdout",
     "output_type": "stream",
     "text": [
      "\n",
      "; Function flipcoin\n",
      "; Location: In[40]:8\n",
      "define nonnull %jl_value_t addrspace(10)* @julia_flipcoin_37161(double) {\n",
      "top:\n",
      "; Function <; {\n",
      "; Location: float.jl:452\n",
      "  %1 = fcmp uge double %0, 5.000000e-01\n",
      ";}\n",
      "  %spec.select = select i1 %1, %jl_value_t addrspace(10)* addrspacecast (%jl_value_t* inttoptr (i64 4607296016 to %jl_value_t*) to %jl_value_t addrspace(10)*), %jl_value_t addrspace(10)* addrspacecast (%jl_value_t* inttoptr (i64 4607295888 to %jl_value_t*) to %jl_value_t addrspace(10)*)\n",
      "; Location: In[40]:9\n",
      "  ret %jl_value_t addrspace(10)* %spec.select\n",
      "}\n"
     ]
    }
   ],
   "source": [
    "@code_llvm flipcoin(rand()) # this and code_warntype are probably the most relevant"
   ]
  },
  {
   "cell_type": "code",
   "execution_count": 44,
   "metadata": {},
   "outputs": [
    {
     "name": "stdout",
     "output_type": "stream",
     "text": [
      "\t.section\t__TEXT,__text,regular,pure_instructions\n",
      "; Function flipcoin {\n",
      "; Location: In[40]:8\n",
      "\tdecl\t%eax\n",
      "\tmovl\t$1383627152, %eax       ## imm = 0x52787990\n",
      "\taddl\t%eax, (%eax)\n",
      "\taddb\t%al, (%eax)\n",
      "; Function <; {\n",
      "; Location: float.jl:452\n",
      "\tvmovsd\t(%eax), %xmm1           ## xmm1 = mem[0],zero\n",
      "\txorl\t%ecx, %ecx\n",
      "\tvucomisd\t%xmm0, %xmm1\n",
      "\tsetbe\t%cl\n",
      ";}\n",
      "\tdecl\t%eax\n",
      "\tshll\t$7, %ecx\n",
      "\tdecl\t%eax\n",
      "\tmovl\t$312328592, %eax        ## imm = 0x129DC190\n",
      "\taddl\t%eax, (%eax)\n",
      "\taddb\t%al, (%eax)\n",
      "\tdecl\t%eax\n",
      "\taddl\t%ecx, %eax\n",
      "; Location: In[40]:9\n",
      "\tretl\n",
      "\tnopl\t(%eax)\n",
      ";}\n"
     ]
    }
   ],
   "source": [
    "@code_native flipcoin(rand())"
   ]
  }
 ],
 "metadata": {
  "kernelspec": {
   "display_name": "Julia 1.0.0",
   "language": "julia",
   "name": "julia-1.0"
  },
  "language_info": {
   "file_extension": ".jl",
   "mimetype": "application/julia",
   "name": "julia",
   "version": "1.0.0"
  }
 },
 "nbformat": 4,
 "nbformat_minor": 2
}
